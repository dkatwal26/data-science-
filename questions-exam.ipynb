{
 "cells": [
  {
   "cell_type": "markdown",
   "metadata": {},
   "source": [
    "## Daniel : DATA SCIENCE SPECIALIZATION WITH PYTHON - EVALUATION"
   ]
  },
  {
   "cell_type": "markdown",
   "metadata": {},
   "source": [
    "Time: 1 hour   \n",
    "\n",
    "Each question carries 5 points unless specified explicitly.\n",
    "\n",
    "Instructions:  \n",
    "* Solve each question in this notebook,    \n",
    "* rename the notebook with your name and    \n",
    "* upload the notebook to your github and share the link on whatsapp group by 7:35 PM\n",
    "\n",
    "\n",
    "The questions are in markdown cells. You need to write code in a new cell just below the question."
   ]
  },
  {
   "cell_type": "markdown",
   "metadata": {},
   "source": [
    "Example:   \n",
    "Question Demo: Write a python program to print \"All the Best!\"."
   ]
  },
  {
   "cell_type": "code",
   "execution_count": 1,
   "metadata": {},
   "outputs": [
    {
     "name": "stdout",
     "output_type": "stream",
     "text": [
      "All the Best!\n"
     ]
    }
   ],
   "source": [
    "print(\"All the Best!\")"
   ]
  },
  {
   "cell_type": "markdown",
   "metadata": {},
   "source": [
    "`Question 1:` Given a Python list, write a program to count and remove all occurrences of item 20.    \n",
    "list1 = [5, 20, 15, 20, 25, 50, 20]"
   ]
  },
  {
   "cell_type": "code",
   "execution_count": 11,
   "metadata": {},
   "outputs": [
    {
     "name": "stdout",
     "output_type": "stream",
     "text": [
      "number of occurrences of 20: 3\n",
      "updated list:[10, 30, 40, 50, 60]\n"
     ]
    }
   ],
   "source": [
    "#Write code for Question 1 here\n",
    "l1 = [10,20,30,40,50,20,60,20]\n",
    "\n",
    "count_20 = l1.count(20)\n",
    "print(f'number of occurrences of 20: {count_20}')\n",
    "\n",
    "#remove all occurrences of 20 \n",
    "l1 = [item for item in l1 if item!= 20]\n",
    "\n",
    "print(f'updated list:{l1}')"
   ]
  },
  {
   "cell_type": "markdown",
   "metadata": {},
   "source": [
    "`Question 2:` Write a python program to create nested dictionary in python and perform addition,   \n",
    "updating and deletion of a key-value pair to that dictionary."
   ]
  },
  {
   "cell_type": "code",
   "execution_count": 25,
   "metadata": {},
   "outputs": [
    {
     "name": "stdout",
     "output_type": "stream",
     "text": [
      "initial nested dictionary:\n",
      "{'team1': {'manchester': 'manutd', 'position': 14}, 'team2': {'london': 'chelsea', 'position': 5}, 'team3': {'south': 'brighton', 'position': 6}}\n",
      "{'team1': {'manchester': 'manutd', 'position': 14}, 'team2': {'london': 'chelsea', 'position': 5}, 'team3': {'south': 'brighton', 'position': 6}, 'team4': {'sheffield': 'sheffield united', 'position': 10}}\n",
      "\n",
      " After updating team1\n",
      "{'team1': {'manchester': 'manutd', 'position': 1}, 'team2': {'london': 'chelsea', 'position': 5}, 'team3': {'south': 'brighton', 'position': 6}, 'team4': {'sheffield': 'sheffield united', 'position': 10}}\n",
      "/n After deleting team4\n",
      "{'team1': {'manchester': 'manutd', 'position': 1}, 'team2': {'london': 'chelsea', 'position': 5}, 'team3': {'south': 'brighton', 'position': 6}}\n"
     ]
    }
   ],
   "source": [
    "#Write code for Question 2 here\n",
    "epl = {\n",
    "    'team1' : {'manchester' : 'manutd', 'position': 14},\n",
    "    'team2' : {'london' : 'chelsea', 'position': 5}, \n",
    "    'team3' : {'south' : 'brighton', 'position': 6}\n",
    "}\n",
    "\n",
    "print('initial nested dictionary:')\n",
    "print(epl)\n",
    "\n",
    "#addition \n",
    "epl['team4']= {'sheffield': 'sheffield united', 'position' : 10}\n",
    "print(epl)\n",
    "\n",
    "#update\n",
    "epl['team1']['position'] = 1\n",
    "print('\\n After updating team1')\n",
    "print(epl)\n",
    "\n",
    "#del \n",
    "# del epl['team4']\n",
    "# print('/n After deleting team4')\n",
    "# print(epl)"
   ]
  },
  {
   "cell_type": "markdown",
   "metadata": {},
   "source": [
    "`Question 3:` From the following score of John, write a python program to calculate the   \n",
    "average score of John and print if John obtained distinction or not.  \n",
    "john_scores = [80, 75, 90, 65, 70, 80, 90]"
   ]
  },
  {
   "cell_type": "code",
   "execution_count": 31,
   "metadata": {},
   "outputs": [
    {
     "name": "stdout",
     "output_type": "stream",
     "text": [
      "johns avg score : 78.571429\n",
      "john obtained distinction.\n"
     ]
    }
   ],
   "source": [
    "#Write code for Question 3 here\n",
    "john_scores = [80, 75, 90, 65, 70, 80, 90]\n",
    "\n",
    "#avg score \n",
    "avg_score = sum(john_scores) / len(john_scores)\n",
    "\n",
    "print(f'johns avg score : {avg_score :2f}')\n",
    "\n",
    "# check for distinction \n",
    "if avg_score >= 75: \n",
    "    print('john obtained distinction.')\n",
    "else: \n",
    "    print('john did not obtain distinction')\n",
    "    "
   ]
  },
  {
   "cell_type": "markdown",
   "metadata": {},
   "source": [
    "Download the student_scores data from this link:   \n",
    "https://raw.githubusercontent.com/diwashsapkota/EvaluationDatasets/refs/heads/main/student_scores.csv?token=GHSAT0AAAAAAC74JA4CMDPGQE7TVJZMRHLIZ7I4PQA"
   ]
  },
  {
   "cell_type": "markdown",
   "metadata": {},
   "source": [
    "`Question 4:` In the ‘student_scores’ data provided to you, use pandas library to filter rows   \n",
    "where both ‘Math’ scores are above 80 and ‘Science’ scores are not missing (not None).   \n",
    "Write the code below:"
   ]
  },
  {
   "cell_type": "code",
   "execution_count": 39,
   "metadata": {},
   "outputs": [
    {
     "data": {
      "text/html": [
       "<div>\n",
       "<style scoped>\n",
       "    .dataframe tbody tr th:only-of-type {\n",
       "        vertical-align: middle;\n",
       "    }\n",
       "\n",
       "    .dataframe tbody tr th {\n",
       "        vertical-align: top;\n",
       "    }\n",
       "\n",
       "    .dataframe thead th {\n",
       "        text-align: right;\n",
       "    }\n",
       "</style>\n",
       "<table border=\"1\" class=\"dataframe\">\n",
       "  <thead>\n",
       "    <tr style=\"text-align: right;\">\n",
       "      <th></th>\n",
       "      <th>Student</th>\n",
       "      <th>Math</th>\n",
       "      <th>English</th>\n",
       "      <th>Science</th>\n",
       "      <th>Family Income</th>\n",
       "      <th>Hours of Study at Home</th>\n",
       "      <th>Age Group</th>\n",
       "      <th>Distance from School (km)</th>\n",
       "      <th>Number of Siblings</th>\n",
       "      <th>Extracurricular Activities</th>\n",
       "      <th>Motivation Level</th>\n",
       "    </tr>\n",
       "  </thead>\n",
       "  <tbody>\n",
       "    <tr>\n",
       "      <th>0</th>\n",
       "      <td>Ajay</td>\n",
       "      <td>85.0</td>\n",
       "      <td>90</td>\n",
       "      <td>78.0</td>\n",
       "      <td>75000</td>\n",
       "      <td>3.0</td>\n",
       "      <td>11-20</td>\n",
       "      <td>2.5</td>\n",
       "      <td>2</td>\n",
       "      <td>1</td>\n",
       "      <td>High</td>\n",
       "    </tr>\n",
       "    <tr>\n",
       "      <th>1</th>\n",
       "      <td>Binay_</td>\n",
       "      <td>92.0</td>\n",
       "      <td>88</td>\n",
       "      <td>95.0</td>\n",
       "      <td>80000</td>\n",
       "      <td>4.0</td>\n",
       "      <td>21-30</td>\n",
       "      <td>3.0</td>\n",
       "      <td>1</td>\n",
       "      <td>1</td>\n",
       "      <td>Medium</td>\n",
       "    </tr>\n",
       "    <tr>\n",
       "      <th>2</th>\n",
       "      <td>Amrita</td>\n",
       "      <td>75.0</td>\n",
       "      <td>80</td>\n",
       "      <td>82.0</td>\n",
       "      <td>60000</td>\n",
       "      <td>2.0</td>\n",
       "      <td>11-20</td>\n",
       "      <td>1.8</td>\n",
       "      <td>3</td>\n",
       "      <td>0</td>\n",
       "      <td>Medium</td>\n",
       "    </tr>\n",
       "    <tr>\n",
       "      <th>3</th>\n",
       "      <td>Raj</td>\n",
       "      <td>88.0</td>\n",
       "      <td>92</td>\n",
       "      <td>89.0</td>\n",
       "      <td>90000</td>\n",
       "      <td>5.0</td>\n",
       "      <td>21-30</td>\n",
       "      <td>4.2</td>\n",
       "      <td>0</td>\n",
       "      <td>1</td>\n",
       "      <td>High</td>\n",
       "    </tr>\n",
       "    <tr>\n",
       "      <th>4</th>\n",
       "      <td>Sa nj u</td>\n",
       "      <td>60.0</td>\n",
       "      <td>77</td>\n",
       "      <td>NaN</td>\n",
       "      <td>55000</td>\n",
       "      <td>1.0</td>\n",
       "      <td>11-20</td>\n",
       "      <td>2.0</td>\n",
       "      <td>4</td>\n",
       "      <td>0</td>\n",
       "      <td>Low</td>\n",
       "    </tr>\n",
       "  </tbody>\n",
       "</table>\n",
       "</div>"
      ],
      "text/plain": [
       "   Student  Math  English  Science  Family Income  Hours of Study at Home  \\\n",
       "0     Ajay  85.0       90     78.0          75000                     3.0   \n",
       "1   Binay_  92.0       88     95.0          80000                     4.0   \n",
       "2   Amrita  75.0       80     82.0          60000                     2.0   \n",
       "3      Raj  88.0       92     89.0          90000                     5.0   \n",
       "4  Sa nj u  60.0       77      NaN          55000                     1.0   \n",
       "\n",
       "  Age Group  Distance from School (km)  Number of Siblings  \\\n",
       "0     11-20                        2.5                   2   \n",
       "1     21-30                        3.0                   1   \n",
       "2     11-20                        1.8                   3   \n",
       "3     21-30                        4.2                   0   \n",
       "4     11-20                        2.0                   4   \n",
       "\n",
       "   Extracurricular Activities Motivation Level  \n",
       "0                           1             High  \n",
       "1                           1           Medium  \n",
       "2                           0           Medium  \n",
       "3                           1             High  \n",
       "4                           0              Low  "
      ]
     },
     "execution_count": 39,
     "metadata": {},
     "output_type": "execute_result"
    }
   ],
   "source": [
    "#Write code for Question 4 here\n",
    "import pandas as pd \n",
    "\n",
    "d1 = pd.read_csv('student_scores.csv')\n",
    "\n",
    "d1.head()"
   ]
  },
  {
   "cell_type": "code",
   "execution_count": 43,
   "metadata": {},
   "outputs": [
    {
     "name": "stdout",
     "output_type": "stream",
     "text": [
      "  Student  Math  English  Science  Family Income  Hours of Study at Home  \\\n",
      "0    Ajay  85.0       90     78.0          75000                     3.0   \n",
      "1  Binay_  92.0       88     95.0          80000                     4.0   \n",
      "3     Raj  88.0       92     89.0          90000                     5.0   \n",
      "\n",
      "  Age Group  Distance from School (km)  Number of Siblings  \\\n",
      "0     11-20                        2.5                   2   \n",
      "1     21-30                        3.0                   1   \n",
      "3     21-30                        4.2                   0   \n",
      "\n",
      "   Extracurricular Activities Motivation Level  \n",
      "0                           1             High  \n",
      "1                           1           Medium  \n",
      "3                           1             High  \n"
     ]
    }
   ],
   "source": [
    "filtered_d1 = d1[(data['Math']> 80) & (data['Science'].notnull())]\n",
    "print(filtered_d1)"
   ]
  },
  {
   "cell_type": "markdown",
   "metadata": {},
   "source": [
    "`Question 5:` In the ‘student_scores’ data, calculate the summary of the columns in   \n",
    "Jupyter lab and write the Median values of each Subject below:"
   ]
  },
  {
   "cell_type": "code",
   "execution_count": 51,
   "metadata": {},
   "outputs": [
    {
     "name": "stdout",
     "output_type": "stream",
     "text": [
      "summary statistics:\n",
      "            Math     English    Science  Family Income  \\\n",
      "count   6.000000    7.000000   5.000000       7.000000   \n",
      "mean   67.000000  201.714286  85.800000   71428.571429   \n",
      "std    33.846713  307.961423   6.534524   20959.143930   \n",
      "min     2.000000   77.000000  78.000000   40000.000000   \n",
      "25%    63.750000   82.500000  82.000000   57500.000000   \n",
      "50%    80.000000   88.000000  85.000000   75000.000000   \n",
      "75%    87.250000   91.000000  89.000000   85000.000000   \n",
      "max    92.000000  900.000000  95.000000  100000.000000   \n",
      "\n",
      "       Hours of Study at Home  Distance from School (km)  Number of Siblings  \\\n",
      "count                6.000000                   7.000000            7.000000   \n",
      "mean                 3.500000                   2.785714            1.714286   \n",
      "std                  1.870829                   1.648665            1.496026   \n",
      "min                  1.000000                   0.500000            0.000000   \n",
      "25%                  2.250000                   1.900000            0.500000   \n",
      "50%                  3.500000                   2.500000            2.000000   \n",
      "75%                  4.750000                   3.600000            2.500000   \n",
      "max                  6.000000                   5.500000            4.000000   \n",
      "\n",
      "       Extracurricular Activities  \n",
      "count                    7.000000  \n",
      "mean                     0.571429  \n",
      "std                      0.534522  \n",
      "min                      0.000000  \n",
      "25%                      0.000000  \n",
      "50%                      1.000000  \n",
      "75%                      1.000000  \n",
      "max                      1.000000  \n"
     ]
    }
   ],
   "source": [
    "#Write code for Question 5 here\n",
    "summary = d1.describe()\n",
    "print('summary statistics:')\n",
    "print(summary)\n"
   ]
  },
  {
   "cell_type": "code",
   "execution_count": 57,
   "metadata": {},
   "outputs": [
    {
     "name": "stdout",
     "output_type": "stream",
     "text": [
      "median math score:80.0\n",
      "median science score:85.0\n",
      "median science score:88.0\n"
     ]
    }
   ],
   "source": [
    "median_math = d1['Math'].median()\n",
    "median_science =d1['Science'].median()\n",
    "median_english = d1['English'].median()\n",
    "\n",
    "print(f'median math score:{median_math}')\n",
    "print(f'median science score:{median_science}')\n",
    "print(f'median science score:{median_english}')"
   ]
  },
  {
   "cell_type": "markdown",
   "metadata": {},
   "source": [
    "`Question 6:` For the ‘student_scores’ data, write python program to detect and   \n",
    "replace the missing values with the median values of each column."
   ]
  },
  {
   "cell_type": "code",
   "execution_count": 63,
   "metadata": {},
   "outputs": [
    {
     "name": "stdout",
     "output_type": "stream",
     "text": [
      "\n",
      " Update df (missin values replaced):\n",
      "   Student  Math  English  Science  Family Income  Hours of Study at Home  \\\n",
      "0     Ajay  85.0       90     78.0          75000                     3.0   \n",
      "1   Binay_  92.0       88     95.0          80000                     4.0   \n",
      "2   Amrita  75.0       80     82.0          60000                     2.0   \n",
      "3      Raj  88.0       92     89.0          90000                     5.0   \n",
      "4  Sa nj u  60.0       77     85.0          55000                     1.0   \n",
      "5    Pujan   2.0       85     85.0          40000                     3.5   \n",
      "6  Prabesh  80.0      900     85.0         100000                     6.0   \n",
      "\n",
      "  Age Group  Distance from School (km)  Number of Siblings  \\\n",
      "0     11-20                        2.5                   2   \n",
      "1     21-30                        3.0                   1   \n",
      "2     11-20                        1.8                   3   \n",
      "3     21-30                        4.2                   0   \n",
      "4     11-20                        2.0                   4   \n",
      "5      0-10                        0.5                   0   \n",
      "6     21-30                        5.5                   2   \n",
      "\n",
      "   Extracurricular Activities Motivation Level  \n",
      "0                           1             High  \n",
      "1                           1           Medium  \n",
      "2                           0           Medium  \n",
      "3                           1             High  \n",
      "4                           0              Low  \n",
      "5                           0              Low  \n",
      "6                           1             High  \n"
     ]
    }
   ],
   "source": [
    "#Write code for Question 6 here\n",
    "import numpy as np \n",
    "\n",
    "for column in d1.columns: \n",
    "    if d1[column].isnull().any(): \n",
    "        median_value = d1[column].median()\n",
    "        d1[column].fillna(median_value)\n",
    "\n",
    "print('\\n Update df (missin values replaced):')\n",
    "print(d1)"
   ]
  },
  {
   "cell_type": "markdown",
   "metadata": {},
   "source": [
    "`Question 7:` For the ‘student_scores’ data, write python program to detect and   \n",
    "replace the outliers with the mean values of each column."
   ]
  },
  {
   "cell_type": "code",
   "execution_count": 67,
   "metadata": {},
   "outputs": [
    {
     "name": "stdout",
     "output_type": "stream",
     "text": [
      "\n",
      "Updated df (outliers replaced with mean)\n",
      "   Student       Math     English    Science  Family Income  \\\n",
      "0     Ajay  85.000000   90.000000  85.571429          75000   \n",
      "1   Binay_  92.000000   88.000000  85.571429          80000   \n",
      "2   Amrita  75.000000   80.000000  82.000000          60000   \n",
      "3      Raj  88.000000   92.000000  89.000000          90000   \n",
      "4  Sa nj u  60.000000   77.000000  85.000000          55000   \n",
      "5    Pujan  68.857143   85.000000  85.000000          40000   \n",
      "6  Prabesh  80.000000  201.714286  85.000000         100000   \n",
      "\n",
      "   Hours of Study at Home Age Group  Distance from School (km)  \\\n",
      "0                     3.0     11-20                        2.5   \n",
      "1                     4.0     21-30                        3.0   \n",
      "2                     2.0     11-20                        1.8   \n",
      "3                     5.0     21-30                        4.2   \n",
      "4                     1.0     11-20                        2.0   \n",
      "5                     3.5      0-10                        0.5   \n",
      "6                     6.0     21-30                        5.5   \n",
      "\n",
      "   Number of Siblings  Extracurricular Activities Motivation Level  \n",
      "0                   2                           1             High  \n",
      "1                   1                           1           Medium  \n",
      "2                   3                           0           Medium  \n",
      "3                   0                           1             High  \n",
      "4                   4                           0              Low  \n",
      "5                   0                           0              Low  \n",
      "6                   2                           1             High  \n"
     ]
    }
   ],
   "source": [
    "#Write code for Question 7 here\n",
    "def replace_outliers_with_mean(column):\n",
    "    Q1 = column.quantile(0.25)\n",
    "    Q3 = column.quantile(0.75)\n",
    "    IQR = Q3 - Q1\n",
    "\n",
    "#define lower and upper bounds for outliers \n",
    "    lower_bound = Q1 - 1.5 * IQR \n",
    "    upper_bound = Q3 + 1.5 * IQR \n",
    "\n",
    "    column_mean = column.mean()\n",
    "\n",
    "#replace outliers w the mean \n",
    "    column = column.apply(lambda x: column_mean if x < lower_bound or x > upper_bound else x)\n",
    "    return column \n",
    "\n",
    "#detect and replace outliers in each column \n",
    "for col in d1.columns:\n",
    "    if d1[col].dtype in ['float64', 'int64']: \n",
    "        d1[col] = replace_outliers_with_mean(d1[col])\n",
    "\n",
    "print('\\nUpdated df (outliers replaced with mean)')\n",
    "print(d1)\n"
   ]
  },
  {
   "cell_type": "markdown",
   "metadata": {},
   "source": [
    "`Question 8:` For the ‘student_scores’ data, write python program to clean the   \n",
    "string columns and calculate a ‘total_score’ column based on the sum of each subject."
   ]
  },
  {
   "cell_type": "code",
   "execution_count": 79,
   "metadata": {},
   "outputs": [
    {
     "name": "stdout",
     "output_type": "stream",
     "text": [
      "Cleaned and Updated DataFrame:\n",
      "   Student       Math     English    Science  Family Income  \\\n",
      "0     Ajay  85.000000   90.000000  85.571429          75000   \n",
      "1   Binay_  92.000000   88.000000  85.571429          80000   \n",
      "2   Amrita  75.000000   80.000000  82.000000          60000   \n",
      "3      Raj  88.000000   92.000000  89.000000          90000   \n",
      "4  Sa nj u  60.000000   77.000000  85.000000          55000   \n",
      "5    Pujan  68.857143   85.000000  85.000000          40000   \n",
      "6  Prabesh  80.000000  201.714286  85.000000         100000   \n",
      "\n",
      "   Hours of Study at Home Age Group  Distance from School (km)  \\\n",
      "0                     3.0     11-20                        2.5   \n",
      "1                     4.0     21-30                        3.0   \n",
      "2                     2.0     11-20                        1.8   \n",
      "3                     5.0     21-30                        4.2   \n",
      "4                     1.0     11-20                        2.0   \n",
      "5                     3.5      0-10                        0.5   \n",
      "6                     6.0     21-30                        5.5   \n",
      "\n",
      "   Number of Siblings  Extracurricular Activities Motivation Level  \\\n",
      "0                   2                           1             High   \n",
      "1                   1                           1           Medium   \n",
      "2                   3                           0           Medium   \n",
      "3                   0                           1             High   \n",
      "4                   4                           0              Low   \n",
      "5                   0                           0              Low   \n",
      "6                   2                           1             High   \n",
      "\n",
      "   total_score  \n",
      "0   260.571429  \n",
      "1   265.571429  \n",
      "2   237.000000  \n",
      "3   269.000000  \n",
      "4   222.000000  \n",
      "5   238.857143  \n",
      "6   366.714286  \n"
     ]
    }
   ],
   "source": [
    "#Write code for Question 8 here\n",
    "# Clean the 'Student' column (remove extra spaces)\n",
    "d1['Student'] = d1['Student'].str.strip()\n",
    "\n",
    "# Replace missing values in the 'Science' column with the median\n",
    "d1['Science'].fillna(d1['Science'].median())\n",
    "\n",
    "# Calculate the total_score by summing 'Math', 'English', and 'Science'\n",
    "d1['total_score'] = d1[['Math', 'English', 'Science']].sum(axis=1)\n",
    "\n",
    "# Display the updated DataFrame\n",
    "print(\"Cleaned and Updated DataFrame:\")\n",
    "print(d1)"
   ]
  },
  {
   "cell_type": "markdown",
   "metadata": {},
   "source": [
    "`Question 9:` Write python code to create at least 3 visualizations from the data provided. ***[15 points]***"
   ]
  },
  {
   "cell_type": "code",
   "execution_count": 93,
   "metadata": {},
   "outputs": [
    {
     "data": {
      "image/png": "[encoded data removed]",
      "text/plain": [
       "<Figure size 800x500 with 1 Axes>"
      ]
     },
     "metadata": {},
     "output_type": "display_data"
    },
    {
     "data": {
      "image/png": "[encoded data removed]",
      "text/plain": [
       "<Figure size 800x500 with 1 Axes>"
      ]
     },
     "metadata": {},
     "output_type": "display_data"
    },
    {
     "name": "stderr",
     "output_type": "stream",
     "text": [
      "/var/folders/g5/c95sj2ws6k173wyprk63khdh0000gn/T/ipykernel_26421/3262905539.py:24: FutureWarning: \n",
      "\n",
      "Passing `palette` without assigning `hue` is deprecated and will be removed in v0.14.0. Assign the `x` variable to `hue` and set `legend=False` for the same effect.\n",
      "\n",
      "  sns.boxplot(x='Age Group', y='Hours of Study at Home', data=d1, palette='magma')\n"
     ]
    },
    {
     "data": {
      "image/png": "[encoded data removed]",
      "text/plain": [
       "<Figure size 800x500 with 1 Axes>"
      ]
     },
     "metadata": {},
     "output_type": "display_data"
    }
   ],
   "source": [
    "# Visualization 1: Bar Plot of Total Scores by Student\n",
    "plt.figure(figsize=(8, 5))\n",
    "sns.barplot(x='Student', y='total_score', hue='Student', data=d1, palette='viridis', dodge=False)\n",
    "plt.title('Total Score by Student', fontsize=14)\n",
    "plt.xlabel('Student', fontsize=12)\n",
    "plt.ylabel('Total Score', fontsize=12)\n",
    "plt.xticks(rotation=45)\n",
    "plt.legend([], [], frameon=False)  # Hide legend to keep it clean\n",
    "plt.tight_layout()\n",
    "plt.show()\n",
    "\n",
    "# Visualization 2: Scatter Plot of Family Income vs. Total Score\n",
    "plt.figure(figsize=(8, 5))\n",
    "sns.scatterplot(x='Family Income', y='total_score', hue='Motivation Level', data=d1, palette='cool')\n",
    "plt.title('Family Income vs. Total Score', fontsize=14)\n",
    "plt.xlabel('Family Income', fontsize=12)\n",
    "plt.ylabel('Total Score', fontsize=12)\n",
    "plt.legend(title='Motivation Level')\n",
    "plt.tight_layout()\n",
    "plt.show()\n",
    "\n",
    "# Visualization 3: Box Plot of Hours of Study Grouped by Age Group\n",
    "plt.figure(figsize=(8, 5))\n",
    "sns.boxplot(x='Age Group', y='Hours of Study at Home', data=d1, palette='magma')\n",
    "plt.title('Hours of Study at Home by Age Group', fontsize=14)\n",
    "plt.xlabel('Age Group', fontsize=12)\n",
    "plt.ylabel('Hours of Study at Home', fontsize=12)\n",
    "plt.tight_layout()"
   ]
  },
  {
   "cell_type": "markdown",
   "metadata": {},
   "source": [
    "`Question 10:` Write python code to normalize and standardize the features of the ‘student_scores’ data."
   ]
  },
  {
   "cell_type": "code",
   "execution_count": 118,
   "metadata": {},
   "outputs": [
    {
     "name": "stdout",
     "output_type": "stream",
     "text": [
      "\n",
      "Normalized DataFrame (values scaled between 0 and 1):\n",
      "       Math   English   Science  Family Income  Hours of Study at Home  \\\n",
      "0  0.781250  0.104238  0.510204       0.583333                     0.4   \n",
      "1  1.000000  0.088202  0.510204       0.666667                     0.6   \n",
      "2  0.468750  0.024055  0.000000       0.333333                     0.2   \n",
      "3  0.875000  0.120275  1.000000       0.833333                     0.8   \n",
      "4  0.000000  0.000000  0.428571       0.250000                     0.0   \n",
      "5  0.276786  0.064147  0.428571       0.000000                     0.5   \n",
      "6  0.625000  1.000000  0.428571       1.000000                     1.0   \n",
      "\n",
      "   Distance from School (km)  Number of Siblings  Extracurricular Activities  \\\n",
      "0                       0.40                0.50                         1.0   \n",
      "1                       0.50                0.25                         1.0   \n",
      "2                       0.26                0.75                         0.0   \n",
      "3                       0.74                0.00                         1.0   \n",
      "4                       0.30                1.00                         0.0   \n",
      "5                       0.00                0.00                         0.0   \n",
      "6                       1.00                0.50                         1.0   \n",
      "\n",
      "   total_score  \n",
      "0     0.266535  \n",
      "1     0.301086  \n",
      "2     0.103653  \n",
      "3     0.324778  \n",
      "4     0.000000  \n",
      "5     0.116486  \n",
      "6     1.000000  \n",
      "\n",
      "Standardized DataFrame (mean=0, std=1):\n",
      "       Math   English   Science  Family Income  Hours of Study at Home  \\\n",
      "0  0.630794 -0.291515  0.140395       0.184053               -0.316228   \n",
      "1  1.300647 -0.340267  0.140395       0.441726                0.316228   \n",
      "2 -0.326138 -0.535273 -1.749538      -0.588968               -0.948683   \n",
      "3  0.917874 -0.242763  1.954730       0.957073                0.948683   \n",
      "4 -1.761537 -0.608401 -0.161994      -0.846642               -1.581139   \n",
      "5 -0.913968 -0.413394 -0.161994      -1.619662                0.000000   \n",
      "6  0.152328  2.431613 -0.161994       1.472420                1.581139   \n",
      "\n",
      "   Distance from School (km)  Number of Siblings  Extracurricular Activities  \\\n",
      "0                  -0.187186            0.206284                    0.866025   \n",
      "1                   0.140389           -0.515711                    0.866025   \n",
      "2                  -0.645791            0.928279                   -1.154701   \n",
      "3                   0.926570           -1.237705                    0.866025   \n",
      "4                  -0.514761            1.650274                   -1.154701   \n",
      "5                  -1.497487           -1.237705                   -1.154701   \n",
      "6                   1.778266            0.206284                    0.866025   \n",
      "\n",
      "   total_score  \n",
      "0    -0.115348  \n",
      "1    -0.002307  \n",
      "2    -0.648258  \n",
      "3     0.075207  \n",
      "4    -0.987383  \n",
      "5    -0.606271  \n",
      "6     2.284361  \n"
     ]
    }
   ],
   "source": [
    "from sklearn.preprocessing import MinMaxScaler, StandardScaler\n",
    "import pandas as pd\n",
    "\n",
    "# Assuming d1 is your DataFrame\n",
    "# Exclude non-numeric columns for normalization and standardization\n",
    "numeric_columns = d1.select_dtypes(include=['float64', 'int64']).columns\n",
    "numeric_data = d1[numeric_columns]\n",
    "\n",
    "# Normalization using MinMaxScaler\n",
    "normalizer = MinMaxScaler()\n",
    "normalized_data = pd.DataFrame(normalizer.fit_transform(numeric_data), columns=numeric_columns)\n",
    "print(\"\\nNormalized DataFrame (values scaled between 0 and 1):\")\n",
    "print(normalized_data)\n",
    "\n",
    "# Standardization using StandardScaler\n",
    "scaler = StandardScaler()\n",
    "standardized_data = pd.DataFrame(scaler.fit_transform(numeric_data), columns=numeric_columns)\n",
    "print(\"\\nStandardized DataFrame (mean=0, std=1):\")\n",
    "print(standardized_data)"
   ]
  },
  {
   "cell_type": "markdown",
   "metadata": {},
   "source": [
    "`Question 11:` Implement Multiple Linear Regression to predict the total score of the students.   \n",
    "Perform the computation on Jupyter Lab and write the accuracy metrics below.   \n",
    "Also print the values for y_test and y_predicted. ***[10 points]***"
   ]
  },
  {
   "cell_type": "code",
   "execution_count": 124,
   "metadata": {},
   "outputs": [
    {
     "name": "stdout",
     "output_type": "stream",
     "text": [
      "Mean Squared Error (MSE): 22.030776905843105\n",
      "R-squared Value (R2): nan\n",
      "\n",
      "Actual values (y_test): [275]\n",
      "\n",
      "Predicted values (y_pred): [270.30630456]\n"
     ]
    },
    {
     "name": "stderr",
     "output_type": "stream",
     "text": [
      "/opt/anaconda3/lib/python3.12/site-packages/sklearn/metrics/_regression.py:1211: UndefinedMetricWarning: R^2 score is not well-defined with less than two samples.\n",
      "  warnings.warn(msg, UndefinedMetricWarning)\n"
     ]
    }
   ],
   "source": [
    "from sklearn.model_selection import train_test_split\n",
    "from sklearn.linear_model import LinearRegression\n",
    "from sklearn.metrics import mean_squared_error, r2_score\n",
    "\n",
    "\n",
    "# Replace 'd1' with your DataFrame\n",
    "# Example of data cleaning: Convert non-numeric columns to numeric where needed\n",
    "d1 = pd.DataFrame({\n",
    "    'Student': ['Ajay', 'Binay_', 'Amrita', 'Raj', 'Sa nj u'],\n",
    "    'Math': [85, 92, 75, 88, 60],\n",
    "    'English': [90, 88, 80, 92, 77],\n",
    "    'Science': [78, 95, 82, 89, 85],\n",
    "    'Family Income': [75000, 80000, 60000, 90000, 55000],\n",
    "    'Hours of Study at Home': [3, 4, 2, 5, 1],\n",
    "    'Age Group': ['0-10', '11-20', '11-20', '21-30', '21-30'],\n",
    "    'total_score': [253, 275, 237, 269, 219]\n",
    "})\n",
    "\n",
    "# One-hot encoding for categorical columns (e.g., 'Age Group')\n",
    "d1 = pd.get_dummies(d1, columns=['Age Group'], drop_first=True)\n",
    "\n",
    "# Drop non-relevant columns for the model\n",
    "X = d1.drop(columns=['Student', 'total_score'])  # Features\n",
    "y = d1['total_score']  # Target\n",
    "\n",
    "# Split the data into training and testing sets\n",
    "X_train, X_test, y_train, y_test = train_test_split(X, y, test_size=0.2, random_state=42)\n",
    "\n",
    "# Initialize and train the Multiple Linear Regression model\n",
    "model = LinearRegression()\n",
    "model.fit(X_train, y_train)\n",
    "\n",
    "# Predict total scores for the test set\n",
    "y_pred = model.predict(X_test)\n",
    "\n",
    "# Accuracy metrics\n",
    "mse = mean_squared_error(y_test, y_pred)  # Mean Squared Error\n",
    "r2 = r2_score(y_test, y_pred)  # R-squared Value\n",
    "\n",
    "# Print accuracy metrics\n",
    "print(\"Mean Squared Error (MSE):\", mse)\n",
    "print(\"R-squared Value (R2):\", r2)\n",
    "\n",
    "# Print y_test and y_predicted values\n",
    "print(\"\\nActual values (y_test):\", y_test.values)\n",
    "print(\"\\nPredicted values (y_pred):\", y_pred)\n"
   ]
  },
  {
   "cell_type": "markdown",
   "metadata": {},
   "source": [
    "Download the result.csv data from this link:   \n",
    "https://raw.githubusercontent.com/diwashsapkota/EvaluationDatasets/refs/heads/main/result.csv?token=GHSAT0AAAAAAC74JA4C7P3K2GZLEUTVQV7MZ7I4M5A"
   ]
  },
  {
   "cell_type": "markdown",
   "metadata": {},
   "source": [
    "`Question 12:` Write a python program using Logistic Regression to predict whether   \n",
    "the student will pass or fail based on the features provided in the ‘results’ dataset.   \n",
    "Perform the computation on Jupyter Lab and write appropriate accuracy metrics below.   \n",
    "Also write the values for y_test and y_predicted.  ***[10 points]***"
   ]
  },
  {
   "cell_type": "code",
   "execution_count": 128,
   "metadata": {},
   "outputs": [
    {
     "name": "stdout",
     "output_type": "stream",
     "text": [
      "Accuracy Score: 0.5\n",
      "\n",
      "Confusion Matrix:\n",
      "[[1 0]\n",
      " [1 0]]\n",
      "\n",
      "Classification Report:\n",
      "              precision    recall  f1-score   support\n",
      "\n",
      "           0       0.50      1.00      0.67         1\n",
      "           1       0.00      0.00      0.00         1\n",
      "\n",
      "    accuracy                           0.50         2\n",
      "   macro avg       0.25      0.50      0.33         2\n",
      "weighted avg       0.25      0.50      0.33         2\n",
      "\n",
      "\n",
      "Actual values (y_test): [1 0]\n",
      "Predicted values (y_pred): [0 0]\n"
     ]
    },
    {
     "name": "stderr",
     "output_type": "stream",
     "text": [
      "/opt/anaconda3/lib/python3.12/site-packages/sklearn/linear_model/_logistic.py:469: ConvergenceWarning: lbfgs failed to converge (status=1):\n",
      "STOP: TOTAL NO. of ITERATIONS REACHED LIMIT.\n",
      "\n",
      "Increase the number of iterations (max_iter) or scale the data as shown in:\n",
      "    https://scikit-learn.org/stable/modules/preprocessing.html\n",
      "Please also refer to the documentation for alternative solver options:\n",
      "    https://scikit-learn.org/stable/modules/linear_model.html#logistic-regression\n",
      "  n_iter_i = _check_optimize_result(\n",
      "/opt/anaconda3/lib/python3.12/site-packages/sklearn/metrics/_classification.py:1531: UndefinedMetricWarning: Precision is ill-defined and being set to 0.0 in labels with no predicted samples. Use `zero_division` parameter to control this behavior.\n",
      "  _warn_prf(average, modifier, f\"{metric.capitalize()} is\", len(result))\n",
      "/opt/anaconda3/lib/python3.12/site-packages/sklearn/metrics/_classification.py:1531: UndefinedMetricWarning: Precision is ill-defined and being set to 0.0 in labels with no predicted samples. Use `zero_division` parameter to control this behavior.\n",
      "  _warn_prf(average, modifier, f\"{metric.capitalize()} is\", len(result))\n",
      "/opt/anaconda3/lib/python3.12/site-packages/sklearn/metrics/_classification.py:1531: UndefinedMetricWarning: Precision is ill-defined and being set to 0.0 in labels with no predicted samples. Use `zero_division` parameter to control this behavior.\n",
      "  _warn_prf(average, modifier, f\"{metric.capitalize()} is\", len(result))\n"
     ]
    }
   ],
   "source": [
    "#Write code for Question 12 here\n",
    "# Import required libraries\n",
    "\n",
    "from sklearn.model_selection import train_test_split\n",
    "from sklearn.linear_model import LogisticRegression\n",
    "from sklearn.metrics import accuracy_score, confusion_matrix, classification_report\n",
    "\n",
    "# Example 'results' dataset (replace this with your actual DataFrame)\n",
    "results = pd.DataFrame({\n",
    "    'Math': [85, 60, 72, 90, 50, 88],\n",
    "    'English': [88, 70, 75, 85, 55, 92],\n",
    "    'Science': [78, 65, 70, 95, 40, 89],\n",
    "    'Hours of Study': [3, 1, 2, 4, 0.5, 5],\n",
    "    'Family Income': [75000, 55000, 60000, 80000, 50000, 90000],\n",
    "    'Pass/Fail': [1, 0, 0, 1, 0, 1]  # Target column (1 = Pass, 0 = Fail)\n",
    "})\n",
    "\n",
    "# Split features (X) and target variable (y)\n",
    "X = results.drop(columns=['Pass/Fail'])\n",
    "y = results['Pass/Fail']\n",
    "\n",
    "# Split the data into training and testing sets\n",
    "X_train, X_test, y_train, y_test = train_test_split(X, y, test_size=0.2, random_state=42)\n",
    "\n",
    "# Initialize and train the Logistic Regression model\n",
    "model = LogisticRegression()\n",
    "model.fit(X_train, y_train)\n",
    "\n",
    "# Predict on the test set\n",
    "y_pred = model.predict(X_test)\n",
    "\n",
    "# Evaluate accuracy metrics\n",
    "accuracy = accuracy_score(y_test, y_pred)\n",
    "conf_matrix = confusion_matrix(y_test, y_pred)\n",
    "class_report = classification_report(y_test, y_pred)\n",
    "\n",
    "# Print results\n",
    "print(\"Accuracy Score:\", accuracy)\n",
    "print(\"\\nConfusion Matrix:\")\n",
    "print(conf_matrix)\n",
    "print(\"\\nClassification Report:\")\n",
    "print(class_report)\n",
    "\n",
    "# Print y_test and y_predicted values\n",
    "print(\"\\nActual values (y_test):\", y_test.values)\n",
    "print(\"Predicted values (y_pred):\", y_pred)\n"
   ]
  }
 ],
 "metadata": {
  "kernelspec": {
   "display_name": "Python [conda env:base] *",
   "language": "python",
   "name": "conda-base-py"
  },
  "language_info": {
   "codemirror_mode": {
    "name": "ipython",
    "version": 3
   },
   "file_extension": ".py",
   "mimetype": "text/x-python",
   "name": "python",
   "nbconvert_exporter": "python",
   "pygments_lexer": "ipython3",
   "version": "3.12.7"
  }
 },
 "nbformat": 4,
 "nbformat_minor": 4
}
